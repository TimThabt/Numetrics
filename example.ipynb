{
  "nbformat": 4,
  "nbformat_minor": 0,
  "metadata": {
    "colab": {
      "name": "example.ipynb",
      "provenance": [],
      "collapsed_sections": []
    },
    "kernelspec": {
      "name": "python3",
      "display_name": "Python 3"
    }
  },
  "cells": [
    {
      "cell_type": "code",
      "metadata": {
        "id": "SkrZNIsZ-EWU",
        "outputId": "afe3f4c3-f274-40e4-9586-faa8750c7741",
        "colab": {
          "base_uri": "https://localhost:8080/"
        }
      },
      "source": [
        "# install dependencies\n",
        "!pip install numerapi\n",
        "!pip install numetrics\n",
        "\n",
        "\n",
        "import pandas as pd\n",
        "import numerapi\n",
        "import numetrics"
      ],
      "execution_count": 1,
      "outputs": [
        {
          "output_type": "stream",
          "text": [
            "Collecting numerapi\n",
            "  Downloading https://files.pythonhosted.org/packages/1d/64/d104dde59afb0b56d0c025d7db4707fb197e49a7f6e310228629c9f8e73e/numerapi-2.3.8-py3-none-any.whl\n",
            "Requirement already satisfied: click>=7.0 in /usr/local/lib/python3.6/dist-packages (from numerapi) (7.1.2)\n",
            "Requirement already satisfied: pytz in /usr/local/lib/python3.6/dist-packages (from numerapi) (2018.9)\n",
            "Requirement already satisfied: requests in /usr/local/lib/python3.6/dist-packages (from numerapi) (2.23.0)\n",
            "Requirement already satisfied: python-dateutil in /usr/local/lib/python3.6/dist-packages (from numerapi) (2.8.1)\n",
            "Requirement already satisfied: tqdm>=4.29.1 in /usr/local/lib/python3.6/dist-packages (from numerapi) (4.41.1)\n",
            "Requirement already satisfied: urllib3!=1.25.0,!=1.25.1,<1.26,>=1.21.1 in /usr/local/lib/python3.6/dist-packages (from requests->numerapi) (1.24.3)\n",
            "Requirement already satisfied: idna<3,>=2.5 in /usr/local/lib/python3.6/dist-packages (from requests->numerapi) (2.10)\n",
            "Requirement already satisfied: chardet<4,>=3.0.2 in /usr/local/lib/python3.6/dist-packages (from requests->numerapi) (3.0.4)\n",
            "Requirement already satisfied: certifi>=2017.4.17 in /usr/local/lib/python3.6/dist-packages (from requests->numerapi) (2020.6.20)\n",
            "Requirement already satisfied: six>=1.5 in /usr/local/lib/python3.6/dist-packages (from python-dateutil->numerapi) (1.15.0)\n",
            "Installing collected packages: numerapi\n",
            "Successfully installed numerapi-2.3.8\n",
            "Collecting numetrics\n",
            "  Downloading https://files.pythonhosted.org/packages/5d/c8/a10c2d747e7e1c01577a0afaba31f6c01ef10f8c9e4822bcb8c7047978b0/numetrics-0.0.1-py3-none-any.whl\n",
            "Installing collected packages: numetrics\n",
            "Successfully installed numetrics-0.0.1\n"
          ],
          "name": "stdout"
        }
      ]
    },
    {
      "cell_type": "code",
      "metadata": {
        "id": "epbhjcqQAr0L",
        "outputId": "b5c3b436-bf35-4a37-f8a6-100910d9ef62",
        "colab": {
          "base_uri": "https://localhost:8080/"
        }
      },
      "source": [
        "napi = numerapi.NumerAPI()\n",
        "data_set = napi.download_current_dataset(unzip=True)"
      ],
      "execution_count": 2,
      "outputs": [
        {
          "output_type": "stream",
          "text": [
            "./numerai_dataset_237.zip: 100%|█████████▉| 395M/397M [00:10<00:00, 42.1MB/s]2020-11-10 03:53:46,399 INFO numerapi.base_api: unzipping file...\n",
            "./numerai_dataset_237.zip: 397MB [00:29, 42.1MB/s]                           "
          ],
          "name": "stderr"
        }
      ]
    },
    {
      "cell_type": "code",
      "metadata": {
        "id": "UCaLiCTm-W51"
      },
      "source": [
        "tournament_data = pd.read_csv(\"/content/numerai_dataset_237/numerai_tournament_data.csv\").set_index(\"id\")\n",
        "example_predictions = pd.read_csv(\"numerai_dataset_237/example_predictions_target_kazutsugi.csv\").set_index(\"id\")"
      ],
      "execution_count": 3,
      "outputs": []
    },
    {
      "cell_type": "code",
      "metadata": {
        "id": "cuXm44El_0AD"
      },
      "source": [
        "preds_df = example_predictions.copy()\n",
        "preds_df['target'] = tournament_data['target_kazutsugi']\n",
        "preds_df['era'] = tournament_data['era']\n",
        "preds_df['data_type'] = tournament_data['data_type']"
      ],
      "execution_count": 4,
      "outputs": []
    },
    {
      "cell_type": "code",
      "metadata": {
        "id": "caakTQnNA6xD",
        "outputId": "d3c6c3c5-e27c-43eb-b58c-c89c745495ed",
        "colab": {
          "base_uri": "https://localhost:8080/",
          "height": 450
        }
      },
      "source": [
        "preds_df = preds_df.loc[preds_df['data_type']=='validation']\n",
        "preds_df"
      ],
      "execution_count": 5,
      "outputs": [
        {
          "output_type": "execute_result",
          "data": {
            "text/html": [
              "<div>\n",
              "<style scoped>\n",
              "    .dataframe tbody tr th:only-of-type {\n",
              "        vertical-align: middle;\n",
              "    }\n",
              "\n",
              "    .dataframe tbody tr th {\n",
              "        vertical-align: top;\n",
              "    }\n",
              "\n",
              "    .dataframe thead th {\n",
              "        text-align: right;\n",
              "    }\n",
              "</style>\n",
              "<table border=\"1\" class=\"dataframe\">\n",
              "  <thead>\n",
              "    <tr style=\"text-align: right;\">\n",
              "      <th></th>\n",
              "      <th>prediction_kazutsugi</th>\n",
              "      <th>target</th>\n",
              "      <th>era</th>\n",
              "      <th>data_type</th>\n",
              "    </tr>\n",
              "    <tr>\n",
              "      <th>id</th>\n",
              "      <th></th>\n",
              "      <th></th>\n",
              "      <th></th>\n",
              "      <th></th>\n",
              "    </tr>\n",
              "  </thead>\n",
              "  <tbody>\n",
              "    <tr>\n",
              "      <th>n0003aa52cab36c2</th>\n",
              "      <td>0.48416</td>\n",
              "      <td>0.00</td>\n",
              "      <td>era121</td>\n",
              "      <td>validation</td>\n",
              "    </tr>\n",
              "    <tr>\n",
              "      <th>n000920ed083903f</th>\n",
              "      <td>0.47641</td>\n",
              "      <td>0.25</td>\n",
              "      <td>era121</td>\n",
              "      <td>validation</td>\n",
              "    </tr>\n",
              "    <tr>\n",
              "      <th>n0038e640522c4a6</th>\n",
              "      <td>0.53401</td>\n",
              "      <td>1.00</td>\n",
              "      <td>era121</td>\n",
              "      <td>validation</td>\n",
              "    </tr>\n",
              "    <tr>\n",
              "      <th>n004ac94a87dc54b</th>\n",
              "      <td>0.50522</td>\n",
              "      <td>0.75</td>\n",
              "      <td>era121</td>\n",
              "      <td>validation</td>\n",
              "    </tr>\n",
              "    <tr>\n",
              "      <th>n0052fe97ea0c05f</th>\n",
              "      <td>0.50236</td>\n",
              "      <td>1.00</td>\n",
              "      <td>era121</td>\n",
              "      <td>validation</td>\n",
              "    </tr>\n",
              "    <tr>\n",
              "      <th>...</th>\n",
              "      <td>...</td>\n",
              "      <td>...</td>\n",
              "      <td>...</td>\n",
              "      <td>...</td>\n",
              "    </tr>\n",
              "    <tr>\n",
              "      <th>nffd5480fb9f2db3</th>\n",
              "      <td>0.48559</td>\n",
              "      <td>0.25</td>\n",
              "      <td>era206</td>\n",
              "      <td>validation</td>\n",
              "    </tr>\n",
              "    <tr>\n",
              "      <th>nffd7dd1dc32bd48</th>\n",
              "      <td>0.50614</td>\n",
              "      <td>0.50</td>\n",
              "      <td>era206</td>\n",
              "      <td>validation</td>\n",
              "    </tr>\n",
              "    <tr>\n",
              "      <th>nffdf49f7c43edd0</th>\n",
              "      <td>0.49125</td>\n",
              "      <td>0.00</td>\n",
              "      <td>era206</td>\n",
              "      <td>validation</td>\n",
              "    </tr>\n",
              "    <tr>\n",
              "      <th>nffe32e3f02b17bb</th>\n",
              "      <td>0.49028</td>\n",
              "      <td>0.75</td>\n",
              "      <td>era206</td>\n",
              "      <td>validation</td>\n",
              "    </tr>\n",
              "    <tr>\n",
              "      <th>nfff107f7223892e</th>\n",
              "      <td>0.50815</td>\n",
              "      <td>1.00</td>\n",
              "      <td>era206</td>\n",
              "      <td>validation</td>\n",
              "    </tr>\n",
              "  </tbody>\n",
              "</table>\n",
              "<p>106895 rows × 4 columns</p>\n",
              "</div>"
            ],
            "text/plain": [
              "                  prediction_kazutsugi  target     era   data_type\n",
              "id                                                                \n",
              "n0003aa52cab36c2               0.48416    0.00  era121  validation\n",
              "n000920ed083903f               0.47641    0.25  era121  validation\n",
              "n0038e640522c4a6               0.53401    1.00  era121  validation\n",
              "n004ac94a87dc54b               0.50522    0.75  era121  validation\n",
              "n0052fe97ea0c05f               0.50236    1.00  era121  validation\n",
              "...                                ...     ...     ...         ...\n",
              "nffd5480fb9f2db3               0.48559    0.25  era206  validation\n",
              "nffd7dd1dc32bd48               0.50614    0.50  era206  validation\n",
              "nffdf49f7c43edd0               0.49125    0.00  era206  validation\n",
              "nffe32e3f02b17bb               0.49028    0.75  era206  validation\n",
              "nfff107f7223892e               0.50815    1.00  era206  validation\n",
              "\n",
              "[106895 rows x 4 columns]"
            ]
          },
          "metadata": {
            "tags": []
          },
          "execution_count": 5
        }
      ]
    },
    {
      "cell_type": "code",
      "metadata": {
        "id": "i4a58zCZQQWy",
        "outputId": "2354f613-7af9-413b-9de6-1cb7ef50aabc",
        "colab": {
          "base_uri": "https://localhost:8080/",
          "height": 1000
        }
      },
      "source": [
        "numetrics.diagnose(preds_df,TARGET_NAME='target',PREDICTION_NAME='prediction_kazutsugi')"
      ],
      "execution_count": 6,
      "outputs": [
        {
          "output_type": "stream",
          "text": [
            "\n",
            "\n",
            "\n",
            "======================= Metrics For All Eras ============================\n",
            "Mean:                             0.0289\n",
            "std:                              0.0308\n",
            "Sharpe :                          0.9588\n",
            "\n",
            "Number of All Eras:               22  eras\n",
            "Number of Wins:                   17  eras\n",
            "Number of Losses:                 5  eras\n",
            "\n",
            "Win Rate:                         77.3 %\n",
            "Loss Rate:                        22.7 %\n",
            "\n",
            "Total Profit:                     0.708\n",
            "Total Loss:                       -0.073\n",
            "\n",
            "Number of Eras less than 0.01:    6\n",
            "=====================================================================\n",
            "\n",
            "\n",
            "\n",
            "\n",
            "\n",
            "\n",
            "======================= Metrics For Val 1 Eras ============================\n",
            "Mean:                             0.0409\n",
            "std:                              0.0272\n",
            "Sharpe :                          1.5702\n",
            "\n",
            "Number of All Eras:               12  eras\n",
            "Number of Wins:                   10  eras\n",
            "Number of Losses:                 2  eras\n",
            "\n",
            "Win Rate:                         83.3 %\n",
            "Loss Rate:                        16.7 %\n",
            "\n",
            "Total Profit:                     0.501\n",
            "Total Loss:                       -0.011\n",
            "\n",
            "Number of Eras less than 0.01:    2\n",
            "=====================================================================\n",
            "\n",
            "\n",
            "\n",
            "\n",
            "\n",
            "\n",
            "======================= Metrics For Val 2 Eras ============================\n",
            "Mean:                             0.0145\n",
            "std:                              0.0299\n",
            "Sharpe :                          0.5112\n",
            "\n",
            "Number of All Eras:               10  eras\n",
            "Number of Wins:                   7  eras\n",
            "Number of Losses:                 3  eras\n",
            "\n",
            "Win Rate:                         70.0 %\n",
            "Loss Rate:                        30.0 %\n",
            "\n",
            "Total Profit:                     0.207\n",
            "Total Loss:                       -0.062\n",
            "\n",
            "Number of Eras less than 0.01:    4\n",
            "=====================================================================\n",
            "\n",
            "\n",
            "\n",
            "       Era     Score\n",
            "0   era121  0.026583\n",
            "1   era122  0.043419\n",
            "2   era123  0.049090\n",
            "3   era124  0.068394\n",
            "4   era125  0.038171\n",
            "5   era126  0.024065\n",
            "6   era127 -0.007126\n",
            "7   era128  0.067626\n",
            "8   era129 -0.003689\n",
            "9   era130  0.058469\n",
            "10  era131  0.046358\n",
            "11  era132  0.079056\n",
            "12  era197  0.029458\n",
            "13  era198  0.028511\n",
            "14  era199 -0.045435\n",
            "15  era200  0.017122\n",
            "16  era201  0.003398\n",
            "17  era202  0.048705\n",
            "18  era203  0.028086\n",
            "19  era204  0.051919\n",
            "20  era205 -0.014982\n",
            "21  era206 -0.001880\n"
          ],
          "name": "stdout"
        },
        {
          "output_type": "display_data",
          "data": {
            "image/png": "[encoded data removed]",
            "text/plain": [
              "<Figure size 432x288 with 1 Axes>"
            ]
          },
          "metadata": {
            "tags": [],
            "needs_background": "light"
          }
        }
      ]
    }
  ]
}