{
  "nbformat": 4,
  "nbformat_minor": 0,
  "metadata": {
    "colab": {
      "name": "example.ipynb",
      "provenance": [],
      "collapsed_sections": []
    },
    "kernelspec": {
      "name": "python3",
      "display_name": "Python 3"
    }
  },
  "cells": [
    {
      "cell_type": "code",
      "metadata": {
        "id": "SkrZNIsZ-EWU",
        "colab": {
          "base_uri": "https://localhost:8080/"
        },
        "outputId": "397e127e-ed0c-4c77-c450-c327412f45a9"
      },
      "source": [
        "#@Numetrics Example\n",
        "# install dependencies\n",
        "!pip install numerapi\n",
        "!pip install numetrics\n",
        "\n",
        "import pandas as pd\n",
        "import numerapi\n",
        "\n",
        "import numetrics"
      ],
      "execution_count": 1,
      "outputs": [
        {
          "output_type": "stream",
          "text": [
            "Collecting numerapi\n",
            "  Downloading https://files.pythonhosted.org/packages/1d/64/d104dde59afb0b56d0c025d7db4707fb197e49a7f6e310228629c9f8e73e/numerapi-2.3.8-py3-none-any.whl\n",
            "Requirement already satisfied: requests in /usr/local/lib/python3.6/dist-packages (from numerapi) (2.23.0)\n",
            "Requirement already satisfied: pytz in /usr/local/lib/python3.6/dist-packages (from numerapi) (2018.9)\n",
            "Requirement already satisfied: tqdm>=4.29.1 in /usr/local/lib/python3.6/dist-packages (from numerapi) (4.41.1)\n",
            "Requirement already satisfied: click>=7.0 in /usr/local/lib/python3.6/dist-packages (from numerapi) (7.1.2)\n",
            "Requirement already satisfied: python-dateutil in /usr/local/lib/python3.6/dist-packages (from numerapi) (2.8.1)\n",
            "Requirement already satisfied: chardet<4,>=3.0.2 in /usr/local/lib/python3.6/dist-packages (from requests->numerapi) (3.0.4)\n",
            "Requirement already satisfied: urllib3!=1.25.0,!=1.25.1,<1.26,>=1.21.1 in /usr/local/lib/python3.6/dist-packages (from requests->numerapi) (1.24.3)\n",
            "Requirement already satisfied: certifi>=2017.4.17 in /usr/local/lib/python3.6/dist-packages (from requests->numerapi) (2020.6.20)\n",
            "Requirement already satisfied: idna<3,>=2.5 in /usr/local/lib/python3.6/dist-packages (from requests->numerapi) (2.10)\n",
            "Requirement already satisfied: six>=1.5 in /usr/local/lib/python3.6/dist-packages (from python-dateutil->numerapi) (1.15.0)\n",
            "Installing collected packages: numerapi\n",
            "Successfully installed numerapi-2.3.8\n",
            "Collecting numetrics\n",
            "\u001b[?25l  Downloading https://files.pythonhosted.org/packages/66/65/ab58ec3142898cbb9804642efca95c05d37856079ab8b810297f7e27bc43/numetrics-0.2.0-py3-none-any.whl (2.1MB)\n",
            "\u001b[K     |████████████████████████████████| 2.1MB 6.7MB/s \n",
            "\u001b[?25hInstalling collected packages: numetrics\n",
            "Successfully installed numetrics-0.2.0\n"
          ],
          "name": "stdout"
        }
      ]
    },
    {
      "cell_type": "code",
      "metadata": {
        "id": "epbhjcqQAr0L",
        "colab": {
          "base_uri": "https://localhost:8080/"
        },
        "outputId": "00e4040d-736e-4da3-cae1-aa714c208019"
      },
      "source": [
        "napi = numerapi.NumerAPI()\n",
        "data_set = napi.download_current_dataset(unzip=True)"
      ],
      "execution_count": 2,
      "outputs": [
        {
          "output_type": "stream",
          "text": [
            "./numerai_dataset_238.zip: 379MB [00:07, 50.9MB/s]                           \n",
            "2020-11-19 03:46:15,575 INFO numerapi.base_api: unzipping file...\n"
          ],
          "name": "stderr"
        }
      ]
    },
    {
      "cell_type": "code",
      "metadata": {
        "id": "UCaLiCTm-W51"
      },
      "source": [
        "tournament_data = pd.read_csv(\"/content/numerai_dataset_238/numerai_tournament_data.csv\").set_index(\"id\")\n",
        "example_prediction = pd.read_csv(\"numerai_dataset_238/example_predictions.csv\").set_index(\"id\")"
      ],
      "execution_count": 3,
      "outputs": []
    },
    {
      "cell_type": "code",
      "metadata": {
        "colab": {
          "base_uri": "https://localhost:8080/",
          "height": 1000
        },
        "id": "1IYzltqM0z6J",
        "outputId": "29a637d2-bdc9-4b32-8912-6885c7c1e9b0"
      },
      "source": [
        "numetrics.diagnose(example_prediction)"
      ],
      "execution_count": 4,
      "outputs": [
        {
          "output_type": "stream",
          "text": [
            "\n",
            "=========================== DIAGNOSTICS ===========================\n",
            "Corr With Example Preds:          1.0\n",
            "===================================================================\n",
            "\n",
            "\n",
            "\n",
            "\n",
            "======================= Metrics For All Eras ============================\n",
            "Mean:                             0.0267\n",
            "std:                              0.0285\n",
            "Sharpe :                          0.9541\n",
            "\n",
            "Number of All Eras:               28  eras\n",
            "Number of Wins:                   24  eras\n",
            "Number of Losses:                 4  eras\n",
            "\n",
            "Win Rate:                         85.7 %\n",
            "Loss Rate:                        14.3 %\n",
            "\n",
            "Total Profit:                     0.84\n",
            "Total Loss:                       -0.093\n",
            "\n",
            "Number of Eras less than 0.01:    8\n",
            "=====================================================================\n",
            "\n",
            "\n",
            "\n",
            "\n",
            "\n",
            "\n",
            "======================= Metrics For Val 1 Eras ============================\n",
            "Mean:                             0.0372\n",
            "std:                              0.0267\n",
            "Sharpe :                          1.4547\n",
            "\n",
            "Number of All Eras:               12  eras\n",
            "Number of Wins:                   11  eras\n",
            "Number of Losses:                 1  eras\n",
            "\n",
            "Win Rate:                         91.7 %\n",
            "Loss Rate:                        8.3 %\n",
            "\n",
            "Total Profit:                     0.465\n",
            "Total Loss:                       -0.019\n",
            "\n",
            "Number of Eras less than 0.01:    2\n",
            "=====================================================================\n",
            "\n",
            "\n",
            "\n",
            "\n",
            "\n",
            "\n",
            "======================= Metrics For Val 2 Eras ============================\n",
            "Mean:                             0.0145\n",
            "std:                              0.0221\n",
            "Sharpe :                          0.6901\n",
            "\n",
            "Number of All Eras:               10  eras\n",
            "Number of Wins:                   9  eras\n",
            "Number of Losses:                 1  eras\n",
            "\n",
            "Win Rate:                         90.0 %\n",
            "Loss Rate:                        10.0 %\n",
            "\n",
            "Total Profit:                     0.182\n",
            "Total Loss:                       -0.037\n",
            "\n",
            "Number of Eras less than 0.01:    4\n",
            "=====================================================================\n",
            "\n",
            "\n",
            "\n",
            "\n",
            "\n",
            "\n",
            "======================= Metrics For Val 3 Eras ============================\n",
            "Mean:                             0.026\n",
            "std:                              0.037\n",
            "Sharpe :                          0.7705\n",
            "\n",
            "Number of All Eras:               6  eras\n",
            "Number of Wins:                   4  eras\n",
            "Number of Losses:                 2  eras\n",
            "\n",
            "Win Rate:                         66.7 %\n",
            "Loss Rate:                        33.3 %\n",
            "\n",
            "Total Profit:                     0.194\n",
            "Total Loss:                       -0.038\n",
            "\n",
            "Number of Eras less than 0.01:    2\n",
            "=====================================================================\n",
            "\n",
            "\n",
            "\n",
            "       Era     Score\n",
            "0   era121  0.036394\n",
            "1   era122  0.022988\n",
            "2   era123  0.041650\n",
            "3   era124  0.064269\n",
            "4   era125  0.040532\n",
            "5   era126  0.027743\n",
            "6   era127  0.001872\n",
            "7   era128  0.062209\n",
            "8   era129 -0.018689\n",
            "9   era130  0.059839\n",
            "10  era131  0.034569\n",
            "11  era132  0.072784\n",
            "12  era197  0.033231\n",
            "13  era198  0.020595\n",
            "14  era199 -0.036533\n",
            "15  era200  0.009008\n",
            "16  era201  0.014047\n",
            "17  era202  0.045550\n",
            "18  era203  0.023354\n",
            "19  era204  0.026636\n",
            "20  era205  0.003347\n",
            "21  era206  0.005739\n",
            "22  era207  0.065848\n",
            "23  era208  0.041720\n",
            "24  era209  0.057701\n",
            "25  era210 -0.019371\n",
            "26  era211 -0.018173\n",
            "27  era212  0.028554\n"
          ],
          "name": "stdout"
        },
        {
          "output_type": "display_data",
          "data": {
            "image/png": "[encoded data removed]",
            "text/plain": [
              "<Figure size 432x288 with 1 Axes>"
            ]
          },
          "metadata": {
            "tags": [],
            "needs_background": "light"
          }
        }
      ]
    }
  ]
}